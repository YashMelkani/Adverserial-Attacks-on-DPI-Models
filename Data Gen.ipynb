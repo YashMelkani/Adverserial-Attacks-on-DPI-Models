{
 "cells": [
  {
   "cell_type": "markdown",
   "id": "36b59736-c52a-4405-ae92-6378d8fc27d2",
   "metadata": {},
   "source": [
    "# Generate Density Fields\n",
    "\n",
    "Use pmwd to simulate 10,000 density fields for training/testing"
   ]
  },
  {
   "cell_type": "code",
   "execution_count": 1,
   "id": "05800f72-23cb-454e-bc2e-cff1ed873cc6",
   "metadata": {},
   "outputs": [],
   "source": [
    "import numpy as np\n",
    "import matplotlib.pyplot as plt\n",
    "import jax\n",
    "import jax.numpy as jnp\n",
    "from jax import jit\n",
    "from tqdm import tqdm\n",
    "from pmwd import (\n",
    "    Configuration,\n",
    "    Cosmology, SimpleLCDM, Planck18,\n",
    "    boltzmann,\n",
    "    white_noise, linear_modes,\n",
    "    lpt,\n",
    "    nbody,\n",
    "    scatter,\n",
    "    gather\n",
    ")\n"
   ]
  },
  {
   "cell_type": "code",
   "execution_count": 2,
   "id": "3faeefcd-803d-45fc-96ad-991b5c89c6b0",
   "metadata": {},
   "outputs": [
    {
     "name": "stderr",
     "output_type": "stream",
     "text": [
      "No GPU/TPU found, falling back to CPU. (Set TF_CPP_MIN_LOG_LEVEL=0 and rerun for more info.)\n"
     ]
    },
    {
     "name": "stdout",
     "output_type": "stream",
     "text": [
      "Simulating 262144 particles with a (64, 64, 64) mesh for 5 time steps.\n"
     ]
    }
   ],
   "source": [
    "##### Spatial parameters\n",
    "#Number of particles: nc\n",
    "#Box Size: bs\n",
    "#Mesh shape: force mesh size/particle grid size\n",
    "\n",
    "nc = 64\n",
    "bs = 128 \n",
    "\n",
    "ptcl_grid_shape = (nc,) * 3\n",
    "ptcl_spacing = bs/nc\n",
    "mesh_shape = 1\n",
    "\n",
    "##### Time parameters\n",
    "lpt_order = 2\n",
    "a_start = 0.1\n",
    "a_stop = 1.0\n",
    "a_lpt_maxstep = a_start\n",
    "a_nbody_maxstep = 0.2\n",
    "\n",
    "#nsteps = 5\n",
    "#a_nbody_maxstep = (a_stop - a_start)/nsteps\n",
    "\n",
    "conf = Configuration(ptcl_spacing, ptcl_grid_shape, mesh_shape=mesh_shape,\n",
    "                     lpt_order=lpt_order, a_start=a_start, a_stop=a_stop, \n",
    "                     a_lpt_maxstep=a_lpt_maxstep, a_nbody_maxstep=a_nbody_maxstep)  \n",
    "\n",
    "\n",
    "print(f'Simulating {conf.ptcl_num} particles with a {conf.mesh_shape} mesh for {conf.a_nbody_num} time steps.')"
   ]
  },
  {
   "cell_type": "code",
   "execution_count": 4,
   "id": "8fa9cc27-d934-4f6c-9c00-3e1c5974ac38",
   "metadata": {},
   "outputs": [],
   "source": [
    "def simulate(modes, cosmo, conf):\n",
    "    cosmo = boltzmann(cosmo, conf)\n",
    "    modes = linear_modes(modes, cosmo, conf)\n",
    "    ptcl, obsvbl = lpt(modes, cosmo, conf)\n",
    "    ptcl, obsvbl = nbody(ptcl, obsvbl, cosmo, conf)\n",
    "    dens = scatter(ptcl, conf)\n",
    "    return ptcl, obsvbl, dens"
   ]
  },
  {
   "cell_type": "code",
   "execution_count": 5,
   "id": "f65be44d-7520-4c89-b41b-590effc2f9d2",
   "metadata": {},
   "outputs": [
    {
     "name": "stdout",
     "output_type": "stream",
     "text": [
      "A_s_1e9: [0.5 1.  1.5 2.  2.5 3.  3.5 4.  4.5 5.  5.5]\n",
      "Omega_m: [0.05 0.1  0.15 0.2  0.25 0.3  0.35 0.4  0.45 0.5  0.55]\n"
     ]
    },
    {
     "name": "stderr",
     "output_type": "stream",
     "text": [
      "100%|██████████| 10000/10000 [1:51:13<00:00,  1.50it/s]\n"
     ]
    }
   ],
   "source": [
    "n_samp = 10000\n",
    "\n",
    "#Plank 2018 vals\n",
    "n_s=0.9665\n",
    "Omega_b=0.04897\n",
    "h=0.6766\n",
    "\n",
    "# varied\n",
    "A_s_1e9 = np.arange(0.5, 5.51, 0.5) # paper uses sigma_8 but there are some weird bugs when trying to use the 'sigma8' or 'master' branch of pmwd repo \n",
    "Omega_m = np.arange(0.05, 0.551, 0.05) \n",
    "print('A_s_1e9:', A_s_1e9)\n",
    "print('Omega_m:', Omega_m)\n",
    "\n",
    "labels = np.zeros((n_samp, 2)) # contains the randomly selected vals of A_s_1e9 (col 0) and Omega_m (col 1) used to generate the corresponding density field\n",
    "\n",
    "np.random.seed(0)\n",
    "for i in tqdm(range(n_samp)):\n",
    "    rand_idx = int(np.random.rand() * len(A_s_1e9))\n",
    "    a_s = A_s_1e9[rand_idx]\n",
    "    rand_idx = int(np.random.rand() * len(Omega_m))\n",
    "    o_m = Omega_m[rand_idx]\n",
    "    labels[i, 0] = a_s\n",
    "    labels[i, 1] = o_m\n",
    "    \n",
    "    cosmo = Cosmology(conf, A_s_1e9=a_s, n_s=0.96, Omega_m=o_m, Omega_b=0.05, h=0.7)\n",
    "    modes = white_noise(i, conf, real=True) # NEED TO CHECK: do I use a different seed for every sample?\n",
    "    \n",
    "    _,_, dens = simulate(modes, cosmo, conf)\n",
    "    dens = dens.sum(axis = 0)\n",
    "    np.save(f\"./data/dens{i:05d}.npy\", dens)\n",
    "np.save(f\"./data/labels.npy\", labels)"
   ]
  },
  {
   "cell_type": "code",
   "execution_count": null,
   "id": "173e498a-ded9-402e-8b32-3e789b26c863",
   "metadata": {},
   "outputs": [],
   "source": []
  }
 ],
 "metadata": {
  "kernelspec": {
   "display_name": "Python [conda env:horowitz]",
   "language": "python",
   "name": "conda-env-horowitz-py"
  },
  "language_info": {
   "codemirror_mode": {
    "name": "ipython",
    "version": 3
   },
   "file_extension": ".py",
   "mimetype": "text/x-python",
   "name": "python",
   "nbconvert_exporter": "python",
   "pygments_lexer": "ipython3",
   "version": "3.10.4"
  }
 },
 "nbformat": 4,
 "nbformat_minor": 5
}
